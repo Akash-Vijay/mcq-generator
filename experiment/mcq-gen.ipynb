{
 "cells": [
  {
   "cell_type": "code",
   "execution_count": 1,
   "metadata": {},
   "outputs": [],
   "source": [
    "import os\n",
    "from dotenv import load_dotenv\n",
    "import json\n",
    "import pandas as pd\n",
    "import traceback"
   ]
  },
  {
   "cell_type": "code",
   "execution_count": 2,
   "metadata": {},
   "outputs": [
    {
     "name": "stderr",
     "output_type": "stream",
     "text": [
      "c:\\Development\\mcq-generator\\env\\Lib\\site-packages\\tqdm\\auto.py:21: TqdmWarning: IProgress not found. Please update jupyter and ipywidgets. See https://ipywidgets.readthedocs.io/en/stable/user_install.html\n",
      "  from .autonotebook import tqdm as notebook_tqdm\n"
     ]
    }
   ],
   "source": [
    "from langchain_google_genai import ChatGoogleGenerativeAI"
   ]
  },
  {
   "cell_type": "code",
   "execution_count": 3,
   "metadata": {},
   "outputs": [],
   "source": [
    "load_dotenv()\n",
    "GEMINI_API_KEY = os.getenv(\"GEMINI_API_KEY\")"
   ]
  },
  {
   "cell_type": "code",
   "execution_count": 4,
   "metadata": {},
   "outputs": [],
   "source": [
    "llm = ChatGoogleGenerativeAI(model=\"gemini-pro\", google_api_key=GEMINI_API_KEY)"
   ]
  },
  {
   "cell_type": "code",
   "execution_count": 5,
   "metadata": {},
   "outputs": [],
   "source": [
    "from langchain_core.prompts import PromptTemplate"
   ]
  },
  {
   "cell_type": "code",
   "execution_count": 35,
   "metadata": {},
   "outputs": [],
   "source": [
    "TEMPLATE = \"\"\"\n",
    "Text : {text}\n",
    "You are an expert MCQ maker. Given the above text, it is your job to \\\n",
    "create a quiz of {number} multiple choice questions for {subject} students in {tone} tone.\n",
    "Make sure the questions are not repeated and check all the questions to be conforming the text as well.\n",
    "Make sure to format your response like RESPONSE_JSON below and use it as a guide. \\\n",
    "Ensure to make {number} MCQs\n",
    "###RESPONSE JSON\n",
    "{response_json}\"\n",
    "\n",
    "\"\"\""
   ]
  },
  {
   "cell_type": "code",
   "execution_count": 36,
   "metadata": {},
   "outputs": [],
   "source": [
    "RESPONSE_JSON = {\n",
    "    \"1\":  {\n",
    "        \"MCQ\": \"Multiple Choice Question\",\n",
    "        \"Options\": {\"a\": \"Choice here\", \"b\": \"Choice here\", \"c\": \"Choice here\", \"d\": \"Choice here\"},\n",
    "        \"Correct\": \"Correct Answer\"\n",
    "    },\n",
    "    \"2\":  {\n",
    "        \"MCQ\": \"Multiple Choice Question\",\n",
    "        \"Options\": {\"a\": \"Choice here\", \"b\": \"Choice here\", \"c\": \"Choice here\", \"d\": \"Choice here\"},\n",
    "        \"Correct\": \"Correct Answer\"\n",
    "    },\n",
    "    \"3\":  {\n",
    "        \"MCQ\": \"Multiple Choice Question\",\n",
    "        \"Options\": {\"a\": \"Choice here\", \"b\": \"Choice here\", \"c\": \"Choice here\", \"d\": \"Choice here\"},\n",
    "        \"Correct\": \"Correct Answer\"\n",
    "    }\n",
    "}"
   ]
  },
  {
   "cell_type": "code",
   "execution_count": 37,
   "metadata": {},
   "outputs": [],
   "source": [
    "quiz_prompt = PromptTemplate(template=TEMPLATE, input_variables=[\n",
    "                             \"text\", \"number\", \"subject\", \"tone\", \"response_json\"])"
   ]
  },
  {
   "cell_type": "code",
   "execution_count": 38,
   "metadata": {},
   "outputs": [],
   "source": [
    "from langchain.chains import LLMChain\n",
    "\n",
    "quiz_chain = LLMChain(llm=llm, prompt=quiz_prompt,\n",
    "                      output_key=\"quiz\", verbose=True)"
   ]
  },
  {
   "cell_type": "code",
   "execution_count": 39,
   "metadata": {},
   "outputs": [],
   "source": [
    "TEMPLATE2 = \"\"\"\n",
    "You are an expert english grammarian and writer. Given a Multiple Choice Quiz for {subject} students.\\\n",
    "You need to evaluate the complexity of the question and give a complete analysis of the quiz. Only use at max 50 words for complexity analysis. \n",
    "if the quiz is not at per with the cognitive and analytical abilities of the students,\\\n",
    "update the quiz questions which needs to be changed and change the tone such that it perfectly fits the student abilities\n",
    "Quiz_MCQs:\n",
    "{quiz}\n",
    "\n",
    "Check from an expert English Writer of the above quiz:\n",
    "\"\"\""
   ]
  },
  {
   "cell_type": "code",
   "execution_count": 40,
   "metadata": {},
   "outputs": [],
   "source": [
    "evaluation_prompt = PromptTemplate(\n",
    "    template=TEMPLATE2, input_variables=[\"subject\", \"quiz\"])"
   ]
  },
  {
   "cell_type": "code",
   "execution_count": 41,
   "metadata": {},
   "outputs": [],
   "source": [
    "review_chain = LLMChain(llm=llm, prompt=evaluation_prompt,\n",
    "                        output_key=\"review\", verbose=True)"
   ]
  },
  {
   "cell_type": "code",
   "execution_count": 42,
   "metadata": {},
   "outputs": [],
   "source": [
    "from langchain.chains import SequentialChain\n",
    "\n",
    "generate_evaluate_chain = SequentialChain(chains=[quiz_chain, review_chain], input_variables=[\n",
    "    \"text\", \"number\", \"subject\", \"tone\", \"response_json\"], output_variables=[\"quiz\", \"review\"], verbose=True)"
   ]
  },
  {
   "cell_type": "code",
   "execution_count": 43,
   "metadata": {},
   "outputs": [],
   "source": [
    "with open(\"C:\\Development\\mcq-generator\\data.txt\", \"r\") as f:\n",
    "    data = f.read()"
   ]
  },
  {
   "cell_type": "code",
   "execution_count": 44,
   "metadata": {},
   "outputs": [
    {
     "name": "stdout",
     "output_type": "stream",
     "text": [
      "Natural language processing, or NLP, combines computational linguistics—rule-based modeling of human language—with statistical and machine learning models to enable computers and digital devices to recognize, understand and generate text and speech. Human language is filled with ambiguities that make it incredibly difficult to write software that accurately determines the intended meaning of text or voice data. Homonyms, homophones, sarcasm, idioms, metaphors, grammar and usage exceptions, variations in sentence structure—these just a few of the irregularities of human language that take humans years to learn, but that programmers must teach natural language-driven applications to recognize and understand accurately from the start, if those applications are going to be useful.\n",
      "\n",
      "\n"
     ]
    }
   ],
   "source": [
    "print(data)"
   ]
  },
  {
   "cell_type": "code",
   "execution_count": 45,
   "metadata": {},
   "outputs": [
    {
     "data": {
      "text/plain": [
       "'{\"1\": {\"MCQ\": \"Multiple Choice Question\", \"Options\": {\"a\": \"Choice here\", \"b\": \"Choice here\", \"c\": \"Choice here\", \"d\": \"Choice here\"}, \"Correct\": \"Correct Answer\"}, \"2\": {\"MCQ\": \"Multiple Choice Question\", \"Options\": {\"a\": \"Choice here\", \"b\": \"Choice here\", \"c\": \"Choice here\", \"d\": \"Choice here\"}, \"Correct\": \"Correct Answer\"}, \"3\": {\"MCQ\": \"Multiple Choice Question\", \"Options\": {\"a\": \"Choice here\", \"b\": \"Choice here\", \"c\": \"Choice here\", \"d\": \"Choice here\"}, \"Correct\": \"Correct Answer\"}}'"
      ]
     },
     "execution_count": 45,
     "metadata": {},
     "output_type": "execute_result"
    }
   ],
   "source": [
    "json.dumps(RESPONSE_JSON)"
   ]
  },
  {
   "cell_type": "code",
   "execution_count": 46,
   "metadata": {},
   "outputs": [],
   "source": [
    "NUMBER = 5\n",
    "SUBJECT = \"Maths\"\n",
    "TONE = \"Formal\""
   ]
  },
  {
   "cell_type": "code",
   "execution_count": 48,
   "metadata": {},
   "outputs": [
    {
     "name": "stdout",
     "output_type": "stream",
     "text": [
      "\n",
      "\n",
      "\u001b[1m> Entering new SequentialChain chain...\u001b[0m\n",
      "\n",
      "\n",
      "\u001b[1m> Entering new LLMChain chain...\u001b[0m\n",
      "Prompt after formatting:\n",
      "\u001b[32;1m\u001b[1;3m\n",
      "Text : Natural language processing, or NLP, combines computational linguistics—rule-based modeling of human language—with statistical and machine learning models to enable computers and digital devices to recognize, understand and generate text and speech. Human language is filled with ambiguities that make it incredibly difficult to write software that accurately determines the intended meaning of text or voice data. Homonyms, homophones, sarcasm, idioms, metaphors, grammar and usage exceptions, variations in sentence structure—these just a few of the irregularities of human language that take humans years to learn, but that programmers must teach natural language-driven applications to recognize and understand accurately from the start, if those applications are going to be useful.\n",
      "\n",
      "\n",
      "You are an expert MCQ maker. Given the above text, it is your job to create a quiz of 5 multiple choice questions for Maths students in Formal tone.\n",
      "Make sure the questions are not repeated and check all the questions to be conforming the text as well.\n",
      "Make sure to format your response like RESPONSE_JSON below and use it as a guide. Ensure to make 5 MCQs\n",
      "###RESPONSE JSON\n",
      "{'1': {'MCQ': 'Multiple Choice Question', 'Options': {'a': 'Choice here', 'b': 'Choice here', 'c': 'Choice here', 'd': 'Choice here'}, 'Correct': 'Correct Answer'}, '2': {'MCQ': 'Multiple Choice Question', 'Options': {'a': 'Choice here', 'b': 'Choice here', 'c': 'Choice here', 'd': 'Choice here'}, 'Correct': 'Correct Answer'}, '3': {'MCQ': 'Multiple Choice Question', 'Options': {'a': 'Choice here', 'b': 'Choice here', 'c': 'Choice here', 'd': 'Choice here'}, 'Correct': 'Correct Answer'}}\"\n",
      "\n",
      "\u001b[0m\n",
      "\n",
      "\u001b[1m> Finished chain.\u001b[0m\n",
      "\n",
      "\n",
      "\u001b[1m> Entering new LLMChain chain...\u001b[0m\n",
      "Prompt after formatting:\n",
      "\u001b[32;1m\u001b[1;3m\n",
      "You are an expert english grammarian and writer. Given a Multiple Choice Quiz for Maths students.You need to evaluate the complexity of the question and give a complete analysis of the quiz. Only use at max 50 words for complexity analysis. \n",
      "if the quiz is not at per with the cognitive and analytical abilities of the students,update the quiz questions which needs to be changed and change the tone such that it perfectly fits the student abilities\n",
      "Quiz_MCQs:\n",
      "### RESPONSE_JSON\n",
      "{'1': {'MCQ': 'What is the main goal of natural language processing (NLP)?', 'Options': {'a': 'To enable computers to generate text and speech', 'b': 'To recognize, understand, and generate text and speech', 'c': 'To translate human language into computer code', 'd': 'To create virtual assistants'}, 'Correct': 'b'}, '2': {'MCQ': 'Which of the following is NOT a challenge in teaching NLP to computers?', 'Options': {'a': 'Homonyms', 'b': 'Sarcasm', 'c': 'Regular expressions', 'd': 'Variations in sentence structure'}, 'Correct': 'c'}, '3': {'MCQ': 'How do NLP models combine computational linguistics with other techniques?', 'Options': {'a': 'Through rule-based modeling', 'b': 'Through statistical and machine learning models', 'c': 'Through deep neural networks', 'd': 'Through a combination of all of the above'}, 'Correct': 'd'}, '4': {'MCQ': 'What are some of the irregularities in human language that make NLP challenging?', 'Options': {'a': 'Idioms and metaphors', 'b': 'Grammar and usage exceptions', 'c': 'Homophones and homonyms', 'd': 'All of the above'}, 'Correct': 'd'}, '5': {'MCQ': 'What is a key factor in developing useful NLP applications?', 'Options': {'a': 'Accuracy in recognizing and understanding human language', 'b': 'Speed and efficiency in processing data', 'c': 'User-friendly interfaces', 'd': 'Both a and b'}, 'Correct': 'a'}}\n",
      "\n",
      "Check from an expert English Writer of the above quiz:\n",
      "\u001b[0m\n",
      "\n",
      "\u001b[1m> Finished chain.\u001b[0m\n",
      "\n",
      "\u001b[1m> Finished chain.\u001b[0m\n"
     ]
    }
   ],
   "source": [
    "response = generate_evaluate_chain(\n",
    "    {\"text\": data, \"number\": NUMBER, \"subject\": SUBJECT, \"tone\": TONE, \"response_json\": RESPONSE_JSON})"
   ]
  },
  {
   "cell_type": "code",
   "execution_count": 59,
   "metadata": {},
   "outputs": [
    {
     "data": {
      "text/plain": [
       "{'text': 'Natural language processing, or NLP, combines computational linguistics—rule-based modeling of human language—with statistical and machine learning models to enable computers and digital devices to recognize, understand and generate text and speech. Human language is filled with ambiguities that make it incredibly difficult to write software that accurately determines the intended meaning of text or voice data. Homonyms, homophones, sarcasm, idioms, metaphors, grammar and usage exceptions, variations in sentence structure—these just a few of the irregularities of human language that take humans years to learn, but that programmers must teach natural language-driven applications to recognize and understand accurately from the start, if those applications are going to be useful.\\n\\n',\n",
       " 'number': 5,\n",
       " 'subject': 'Maths',\n",
       " 'tone': 'Formal',\n",
       " 'response_json': {'1': {'MCQ': 'Multiple Choice Question',\n",
       "   'Options': {'a': 'Choice here',\n",
       "    'b': 'Choice here',\n",
       "    'c': 'Choice here',\n",
       "    'd': 'Choice here'},\n",
       "   'Correct': 'Correct Answer'},\n",
       "  '2': {'MCQ': 'Multiple Choice Question',\n",
       "   'Options': {'a': 'Choice here',\n",
       "    'b': 'Choice here',\n",
       "    'c': 'Choice here',\n",
       "    'd': 'Choice here'},\n",
       "   'Correct': 'Correct Answer'},\n",
       "  '3': {'MCQ': 'Multiple Choice Question',\n",
       "   'Options': {'a': 'Choice here',\n",
       "    'b': 'Choice here',\n",
       "    'c': 'Choice here',\n",
       "    'd': 'Choice here'},\n",
       "   'Correct': 'Correct Answer'}},\n",
       " 'quiz': \"### RESPONSE_JSON\\n{'1': {'MCQ': 'What is the main goal of natural language processing (NLP)?', 'Options': {'a': 'To enable computers to generate text and speech', 'b': 'To recognize, understand, and generate text and speech', 'c': 'To translate human language into computer code', 'd': 'To create virtual assistants'}, 'Correct': 'b'}, '2': {'MCQ': 'Which of the following is NOT a challenge in teaching NLP to computers?', 'Options': {'a': 'Homonyms', 'b': 'Sarcasm', 'c': 'Regular expressions', 'd': 'Variations in sentence structure'}, 'Correct': 'c'}, '3': {'MCQ': 'How do NLP models combine computational linguistics with other techniques?', 'Options': {'a': 'Through rule-based modeling', 'b': 'Through statistical and machine learning models', 'c': 'Through deep neural networks', 'd': 'Through a combination of all of the above'}, 'Correct': 'd'}, '4': {'MCQ': 'What are some of the irregularities in human language that make NLP challenging?', 'Options': {'a': 'Idioms and metaphors', 'b': 'Grammar and usage exceptions', 'c': 'Homophones and homonyms', 'd': 'All of the above'}, 'Correct': 'd'}, '5': {'MCQ': 'What is a key factor in developing useful NLP applications?', 'Options': {'a': 'Accuracy in recognizing and understanding human language', 'b': 'Speed and efficiency in processing data', 'c': 'User-friendly interfaces', 'd': 'Both a and b'}, 'Correct': 'a'}}\",\n",
       " 'review': '**Complexity Analysis:**\\n\\nThe quiz questions are clear, concise, and well-structured. They cover a range of topics in natural language processing (NLP) and are appropriate for students with a basic understanding of the subject.\\n\\n**Evaluation:**\\n\\nThe quiz is generally at par with the cognitive and analytical abilities of the students. However, the following question could be rephrased to make it more accessible:\\n\\n**Original Question:** Which of the following is NOT a challenge in teaching NLP to computers?\\n\\n**Updated Question:** Which of the following is a challenge in teaching NLP to computers?\\n\\nThis change simplifies the question and makes it easier for students to understand.'}"
      ]
     },
     "execution_count": 59,
     "metadata": {},
     "output_type": "execute_result"
    }
   ],
   "source": [
    "response"
   ]
  },
  {
   "cell_type": "code",
   "execution_count": 66,
   "metadata": {},
   "outputs": [],
   "source": [
    "quiz = response.get(\"quiz\")\n",
    "quiz = quiz.split('\\n', 1)[1]\n",
    "quiz = quiz.replace(\"'\", \"\\\"\")\n",
    "quiz = json.loads(quiz)"
   ]
  },
  {
   "cell_type": "code",
   "execution_count": 67,
   "metadata": {},
   "outputs": [],
   "source": [
    "quiz_table_data = []\n",
    "for key, value in quiz.items():\n",
    "    mcq = value[\"MCQ\"]\n",
    "    options = \" | \".join(\n",
    "        [\n",
    "            f\"{option}: {option_value}\"\n",
    "            for option, option_value in value[\"Options\"].items()\n",
    "        ]\n",
    "    )\n",
    "    correct = value[\"Correct\"]\n",
    "    quiz_table_data.append(\n",
    "        {\"MCQ\": mcq, \"Choices\": options, \"Correct\": correct})"
   ]
  },
  {
   "cell_type": "code",
   "execution_count": 68,
   "metadata": {},
   "outputs": [
    {
     "data": {
      "text/plain": [
       "[{'MCQ': 'What is the main goal of natural language processing (NLP)?',\n",
       "  'Choices': 'a: To enable computers to generate text and speech | b: To recognize, understand, and generate text and speech | c: To translate human language into computer code | d: To create virtual assistants',\n",
       "  'Correct': 'b'},\n",
       " {'MCQ': 'Which of the following is NOT a challenge in teaching NLP to computers?',\n",
       "  'Choices': 'a: Homonyms | b: Sarcasm | c: Regular expressions | d: Variations in sentence structure',\n",
       "  'Correct': 'c'},\n",
       " {'MCQ': 'How do NLP models combine computational linguistics with other techniques?',\n",
       "  'Choices': 'a: Through rule-based modeling | b: Through statistical and machine learning models | c: Through deep neural networks | d: Through a combination of all of the above',\n",
       "  'Correct': 'd'},\n",
       " {'MCQ': 'What are some of the irregularities in human language that make NLP challenging?',\n",
       "  'Choices': 'a: Idioms and metaphors | b: Grammar and usage exceptions | c: Homophones and homonyms | d: All of the above',\n",
       "  'Correct': 'd'},\n",
       " {'MCQ': 'What is a key factor in developing useful NLP applications?',\n",
       "  'Choices': 'a: Accuracy in recognizing and understanding human language | b: Speed and efficiency in processing data | c: User-friendly interfaces | d: Both a and b',\n",
       "  'Correct': 'a'}]"
      ]
     },
     "execution_count": 68,
     "metadata": {},
     "output_type": "execute_result"
    }
   ],
   "source": [
    "quiz_table_data"
   ]
  },
  {
   "cell_type": "code",
   "execution_count": 71,
   "metadata": {},
   "outputs": [],
   "source": [
    "mcq_data = pd.DataFrame(quiz_table_data)"
   ]
  },
  {
   "cell_type": "code",
   "execution_count": 72,
   "metadata": {},
   "outputs": [],
   "source": [
    "mcq_data.to_csv(\"mcq_data.csv\", index=False)"
   ]
  },
  {
   "cell_type": "code",
   "execution_count": null,
   "metadata": {},
   "outputs": [],
   "source": []
  }
 ],
 "metadata": {
  "kernelspec": {
   "display_name": "Python 3",
   "language": "python",
   "name": "python3"
  },
  "language_info": {
   "codemirror_mode": {
    "name": "ipython",
    "version": 3
   },
   "file_extension": ".py",
   "mimetype": "text/x-python",
   "name": "python",
   "nbconvert_exporter": "python",
   "pygments_lexer": "ipython3",
   "version": "3.11.8"
  }
 },
 "nbformat": 4,
 "nbformat_minor": 2
}
