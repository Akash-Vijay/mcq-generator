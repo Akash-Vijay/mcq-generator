{
 "cells": [
  {
   "cell_type": "code",
   "execution_count": 24,
   "metadata": {},
   "outputs": [],
   "source": [
    "import os\n",
    "from dotenv import load_dotenv\n",
    "import json\n",
    "import pandas as pd\n",
    "import traceback"
   ]
  },
  {
   "cell_type": "code",
   "execution_count": 5,
   "metadata": {},
   "outputs": [],
   "source": [
    " from langchain_google_genai import ChatGoogleGenerativeAI"
   ]
  },
  {
   "cell_type": "code",
   "execution_count": 25,
   "metadata": {},
   "outputs": [],
   "source": [
    "load_dotenv()\n",
    "GEMINI_API_KEY = os.getenv(\"GEMINI_API_KEY\")"
   ]
  },
  {
   "cell_type": "code",
   "execution_count": 26,
   "metadata": {},
   "outputs": [
    {
     "data": {
      "text/plain": [
       "AIMessage(content=\"**Verse 1:**\\nIn realms of code, where data flows,\\nA legend arose, LangChain's prose.\\nA language vast, with boundless might,\\nGuiding AI's path, shining bright.\\n\\n**Chorus:**\\nOh, LangChain, LangChain,\\nYour syntax weaves a boundless chain.\\nFrom simple words to complex lore,\\nYou bridge the gap, forevermore.\\n\\n**Verse 2:**\\nWith every line, a story unfolds,\\nUnveiling patterns, secrets yet untold.\\nFrom chatbots wise to apps that soar,\\nLangChain empowers, forevermore.\\n\\n**Chorus:**\\nOh, LangChain, LangChain,\\nYour syntax weaves a boundless chain.\\nFrom simple words to complex lore,\\nYou bridge the gap, forevermore.\\n\\n**Bridge:**\\nIn classrooms and in labs it reigns,\\nInspiring minds and sparking new gains.\\nA tool for thought, a pathway wide,\\nUnlocking knowledge, side by side.\\n\\n**Verse 3:**\\nThrough natural language, it takes flight,\\nConnecting humans with AI's might.\\nFrom questions answered to insights gained,\\nLangChain empowers, its purpose sustained.\\n\\n**Chorus:**\\nOh, LangChain, LangChain,\\nYour syntax weaves a boundless chain.\\nFrom simple words to complex lore,\\nYou bridge the gap, forevermore.\\n\\n**Outro:**\\nIn the tapestry of time, your name shall gleam,\\nLangChain, the language that fulfills a dream.\\nMay your words forever inspire and guide,\\nAs we embark on AI's boundless tide.\", response_metadata={'prompt_feedback': {'safety_ratings': [{'category': 9, 'probability': 1, 'blocked': False}, {'category': 8, 'probability': 1, 'blocked': False}, {'category': 7, 'probability': 1, 'blocked': False}, {'category': 10, 'probability': 1, 'blocked': False}], 'block_reason': 0}, 'finish_reason': 'STOP', 'safety_ratings': [{'category': 'HARM_CATEGORY_SEXUALLY_EXPLICIT', 'probability': 'NEGLIGIBLE', 'blocked': False}, {'category': 'HARM_CATEGORY_HATE_SPEECH', 'probability': 'NEGLIGIBLE', 'blocked': False}, {'category': 'HARM_CATEGORY_HARASSMENT', 'probability': 'NEGLIGIBLE', 'blocked': False}, {'category': 'HARM_CATEGORY_DANGEROUS_CONTENT', 'probability': 'NEGLIGIBLE', 'blocked': False}]}, id='run-54cdd648-930e-4585-b5e8-2e1792ce3dbe-0')"
      ]
     },
     "execution_count": 26,
     "metadata": {},
     "output_type": "execute_result"
    }
   ],
   "source": [
    "llm = ChatGoogleGenerativeAI(model=\"gemini-pro\", google_api_key=GEMINI_API_KEY)\n",
    "llm.invoke(\"Sing a ballad of LangChain.\")"
   ]
  },
  {
   "cell_type": "code",
   "execution_count": null,
   "metadata": {},
   "outputs": [],
   "source": []
  }
 ],
 "metadata": {
  "kernelspec": {
   "display_name": "Python 3",
   "language": "python",
   "name": "python3"
  },
  "language_info": {
   "codemirror_mode": {
    "name": "ipython",
    "version": 3
   },
   "file_extension": ".py",
   "mimetype": "text/x-python",
   "name": "python",
   "nbconvert_exporter": "python",
   "pygments_lexer": "ipython3",
   "version": "3.11.8"
  }
 },
 "nbformat": 4,
 "nbformat_minor": 2
}
