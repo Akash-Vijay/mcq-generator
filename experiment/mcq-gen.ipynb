{
 "cells": [
  {
   "cell_type": "code",
   "execution_count": 1,
   "metadata": {},
   "outputs": [],
   "source": [
    "import os\n",
    "from dotenv import load_dotenv\n",
    "import json\n",
    "import pandas as pd\n",
    "import traceback"
   ]
  },
  {
   "cell_type": "code",
   "execution_count": 2,
   "metadata": {},
   "outputs": [
    {
     "name": "stderr",
     "output_type": "stream",
     "text": [
      "c:\\Development\\mcq-generator\\env\\Lib\\site-packages\\tqdm\\auto.py:21: TqdmWarning: IProgress not found. Please update jupyter and ipywidgets. See https://ipywidgets.readthedocs.io/en/stable/user_install.html\n",
      "  from .autonotebook import tqdm as notebook_tqdm\n"
     ]
    }
   ],
   "source": [
    "from langchain_google_genai import ChatGoogleGenerativeAI"
   ]
  },
  {
   "cell_type": "code",
   "execution_count": 3,
   "metadata": {},
   "outputs": [],
   "source": [
    "load_dotenv()\n",
    "GEMINI_API_KEY = os.getenv(\"GEMINI_API_KEY\")"
   ]
  },
  {
   "cell_type": "code",
   "execution_count": 4,
   "metadata": {},
   "outputs": [],
   "source": [
    "llm = ChatGoogleGenerativeAI(model=\"gemini-pro\", google_api_key=GEMINI_API_KEY)"
   ]
  },
  {
   "cell_type": "code",
   "execution_count": 5,
   "metadata": {},
   "outputs": [],
   "source": [
    "from langchain_core.prompts import PromptTemplate"
   ]
  },
  {
   "cell_type": "code",
   "execution_count": 6,
   "metadata": {},
   "outputs": [],
   "source": [
    "TEMPLATE = \"\"\"\n",
    "Text : {text}\n",
    "You are an expert MCQ maker. Given the above text, it is your job to \\\n",
    "create a quiz of {number} multiple choice questions for {subject} students in {tone} tone.\n",
    "Make sure the questions are not repeated and check all the questions to be conforming the text as well.\n",
    "Make sure to format your response like RESPONSE_JSON below and use it as a guide. \\\n",
    "Ensure to make {number} MCQs\n",
    "###RESPONSE JSON\n",
    "{response_json}\"\n",
    "\n",
    "\"\"\""
   ]
  },
  {
   "cell_type": "code",
   "execution_count": 7,
   "metadata": {},
   "outputs": [],
   "source": [
    "RESPONSE_JSON = {\n",
    "    \"1\":  {\n",
    "        \"MCQ\": \"Multiple Choice Question\",\n",
    "        \"Options\": {\"a\": \"Choice here\", \"b\": \"Choice here\", \"c\": \"Choice here\", \"d\": \"Choice here\"},\n",
    "        \"Correct\": \"Correct Answer\"\n",
    "    },\n",
    "    \"2\":  {\n",
    "        \"MCQ\": \"Multiple Choice Question\",\n",
    "        \"Options\": {\"a\": \"Choice here\", \"b\": \"Choice here\", \"c\": \"Choice here\", \"d\": \"Choice here\"},\n",
    "        \"Correct\": \"Correct Answer\"\n",
    "    },\n",
    "    \"3\":  {\n",
    "        \"MCQ\": \"Multiple Choice Question\",\n",
    "        \"Options\": {\"a\": \"Choice here\", \"b\": \"Choice here\", \"c\": \"Choice here\", \"d\": \"Choice here\"},\n",
    "        \"Correct\": \"Correct Answer\"\n",
    "    }\n",
    "}"
   ]
  },
  {
   "cell_type": "code",
   "execution_count": 8,
   "metadata": {},
   "outputs": [],
   "source": [
    "quiz_prompt = PromptTemplate(template=TEMPLATE, input_variables=[\n",
    "                             \"text\", \"number\", \"subject\", \"tone\", \"response_json\"])"
   ]
  },
  {
   "cell_type": "code",
   "execution_count": 9,
   "metadata": {},
   "outputs": [],
   "source": [
    "from langchain.chains import LLMChain\n",
    "\n",
    "quiz_chain = LLMChain(llm=llm, prompt=quiz_prompt,\n",
    "                      output_key=\"quiz\", verbose=True)"
   ]
  },
  {
   "cell_type": "code",
   "execution_count": 10,
   "metadata": {},
   "outputs": [],
   "source": [
    "TEMPLATE2 = \"\"\"\n",
    "You are an expert english grammarian and writer. Given a Multiple Choice Quiz for {subject} students.\\\n",
    "You need to evaluate the complexity of the question and give a complete analysis of the quiz. Only use at max 50 words for complexity analysis. \n",
    "if the quiz is not at per with the cognitive and analytical abilities of the students,\\\n",
    "update the quiz questions which needs to be changed and change the tone such that it perfectly fits the student abilities\n",
    "Quiz_MCQs:\n",
    "{quiz}\n",
    "\n",
    "Check from an expert English Writer of the above quiz:\n",
    "\"\"\""
   ]
  },
  {
   "cell_type": "code",
   "execution_count": 11,
   "metadata": {},
   "outputs": [],
   "source": [
    "evaluation_prompt = PromptTemplate(\n",
    "    template=TEMPLATE2, input_variables=[\"subject\", \"quiz\"])"
   ]
  },
  {
   "cell_type": "code",
   "execution_count": 12,
   "metadata": {},
   "outputs": [],
   "source": [
    "review_chain = LLMChain(llm=llm, prompt=evaluation_prompt,\n",
    "                        output_key=\"review\", verbose=True)"
   ]
  },
  {
   "cell_type": "code",
   "execution_count": 13,
   "metadata": {},
   "outputs": [],
   "source": [
    "from langchain.chains import SequentialChain\n",
    "\n",
    "generate_evaluate_chain = SequentialChain(chains=[quiz_chain, review_chain], input_variables=[\n",
    "    \"text\", \"number\", \"subject\", \"tone\", \"response_json\"], output_variables=[\"quiz\", \"review\"], verbose=True)"
   ]
  },
  {
   "cell_type": "code",
   "execution_count": 14,
   "metadata": {},
   "outputs": [],
   "source": [
    "with open(\"C:\\Development\\mcq-generator\\data.txt\", \"r\") as f:\n",
    "    data = f.read()"
   ]
  },
  {
   "cell_type": "code",
   "execution_count": 15,
   "metadata": {},
   "outputs": [
    {
     "name": "stdout",
     "output_type": "stream",
     "text": [
      "Natural language processing, or NLP, combines computational linguisticsâ€”rule-based modeling of human languageâ€”with statistical and machine learning models to enable computers and digital devices to recognize, understand and generate text and speech. Human language is filled with ambiguities that make it incredibly difficult to write software that accurately determines the intended meaning of text or voice data. Homonyms, homophones, sarcasm, idioms, metaphors, grammar and usage exceptions, variations in sentence structureâ€”these just a few of the irregularities of human language that take humans years to learn, but that programmers must teach natural language-driven applications to recognize and understand accurately from the start, if those applications are going to be useful.\n",
      "\n",
      "\n"
     ]
    }
   ],
   "source": [
    "print(data)"
   ]
  },
  {
   "cell_type": "code",
   "execution_count": 16,
   "metadata": {},
   "outputs": [
    {
     "data": {
      "text/plain": [
       "'{\"1\": {\"MCQ\": \"Multiple Choice Question\", \"Options\": {\"a\": \"Choice here\", \"b\": \"Choice here\", \"c\": \"Choice here\", \"d\": \"Choice here\"}, \"Correct\": \"Correct Answer\"}, \"2\": {\"MCQ\": \"Multiple Choice Question\", \"Options\": {\"a\": \"Choice here\", \"b\": \"Choice here\", \"c\": \"Choice here\", \"d\": \"Choice here\"}, \"Correct\": \"Correct Answer\"}, \"3\": {\"MCQ\": \"Multiple Choice Question\", \"Options\": {\"a\": \"Choice here\", \"b\": \"Choice here\", \"c\": \"Choice here\", \"d\": \"Choice here\"}, \"Correct\": \"Correct Answer\"}}'"
      ]
     },
     "execution_count": 16,
     "metadata": {},
     "output_type": "execute_result"
    }
   ],
   "source": [
    "json.dumps(RESPONSE_JSON)"
   ]
  },
  {
   "cell_type": "code",
   "execution_count": 17,
   "metadata": {},
   "outputs": [],
   "source": [
    "NUMBER = 5\n",
    "SUBJECT = \"Maths\"\n",
    "TONE = \"Formal\""
   ]
  },
  {
   "cell_type": "code",
   "execution_count": 18,
   "metadata": {},
   "outputs": [
    {
     "name": "stderr",
     "output_type": "stream",
     "text": [
      "c:\\Development\\mcq-generator\\env\\Lib\\site-packages\\langchain_core\\_api\\deprecation.py:117: LangChainDeprecationWarning: The function `__call__` was deprecated in LangChain 0.1.0 and will be removed in 0.2.0. Use invoke instead.\n",
      "  warn_deprecated(\n"
     ]
    },
    {
     "name": "stdout",
     "output_type": "stream",
     "text": [
      "\n",
      "\n",
      "\u001b[1m> Entering new SequentialChain chain...\u001b[0m\n",
      "\n",
      "\n",
      "\u001b[1m> Entering new LLMChain chain...\u001b[0m\n",
      "Prompt after formatting:\n",
      "\u001b[32;1m\u001b[1;3m\n",
      "Text : Natural language processing, or NLP, combines computational linguisticsâ€”rule-based modeling of human languageâ€”with statistical and machine learning models to enable computers and digital devices to recognize, understand and generate text and speech. Human language is filled with ambiguities that make it incredibly difficult to write software that accurately determines the intended meaning of text or voice data. Homonyms, homophones, sarcasm, idioms, metaphors, grammar and usage exceptions, variations in sentence structureâ€”these just a few of the irregularities of human language that take humans years to learn, but that programmers must teach natural language-driven applications to recognize and understand accurately from the start, if those applications are going to be useful.\n",
      "\n",
      "\n",
      "You are an expert MCQ maker. Given the above text, it is your job to create a quiz of 5 multiple choice questions for Maths students in Formal tone.\n",
      "Make sure the questions are not repeated and check all the questions to be conforming the text as well.\n",
      "Make sure to format your response like RESPONSE_JSON below and use it as a guide. Ensure to make 5 MCQs\n",
      "###RESPONSE JSON\n",
      "{'1': {'MCQ': 'Multiple Choice Question', 'Options': {'a': 'Choice here', 'b': 'Choice here', 'c': 'Choice here', 'd': 'Choice here'}, 'Correct': 'Correct Answer'}, '2': {'MCQ': 'Multiple Choice Question', 'Options': {'a': 'Choice here', 'b': 'Choice here', 'c': 'Choice here', 'd': 'Choice here'}, 'Correct': 'Correct Answer'}, '3': {'MCQ': 'Multiple Choice Question', 'Options': {'a': 'Choice here', 'b': 'Choice here', 'c': 'Choice here', 'd': 'Choice here'}, 'Correct': 'Correct Answer'}}\"\n",
      "\n",
      "\u001b[0m\n",
      "\n",
      "\u001b[1m> Finished chain.\u001b[0m\n",
      "\n",
      "\n",
      "\u001b[1m> Entering new LLMChain chain...\u001b[0m\n",
      "Prompt after formatting:\n",
      "\u001b[32;1m\u001b[1;3m\n",
      "You are an expert english grammarian and writer. Given a Multiple Choice Quiz for Maths students.You need to evaluate the complexity of the question and give a complete analysis of the quiz. Only use at max 50 words for complexity analysis. \n",
      "if the quiz is not at per with the cognitive and analytical abilities of the students,update the quiz questions which needs to be changed and change the tone such that it perfectly fits the student abilities\n",
      "Quiz_MCQs:\n",
      "### RESPONSE_JSON\n",
      "{'1': {'MCQ': 'What is the main component of NLP that enables computers to recognize and understand text and speech?', 'Options': {'a': 'Computational linguistics', 'b': 'Statistical models', 'c': 'Machine learning models', 'd': 'Combinations of a, b, and c'}, 'Correct': 'd'}, '2': {'MCQ': 'Which of the following challenges makes it difficult to develop accurate NLP applications?', 'Options': {'a': 'Ambiguities in human language', 'b': 'Lack of training data', 'c': 'Computational limitations', 'd': 'All of the above'}, 'Correct': 'a'}, '3': {'MCQ': 'Which of the following is NOT an example of an irregularity found in human language?', 'Options': {'a': 'Homonyms', 'b': 'Sarcasm', 'c': 'Boolean algebra', 'd': 'Grammar exceptions'}, 'Correct': 'c'}, '4': {'MCQ': 'What is the significance of teaching NLP applications to recognize human language irregularities?', 'Options': {'a': 'To enhance their accuracy and usefulness', 'b': 'To reduce the need for human supervision', 'c': 'To make them more efficient', 'd': 'None of the above'}, 'Correct': 'a'}, '5': {'MCQ': 'Which of the following is the primary focus of computational linguistics in NLP?', 'Options': {'a': 'Rule-based modeling of human language', 'b': 'Statistical analysis of text', 'c': 'Machine learning algorithms', 'd': 'Speech recognition technology'}, 'Correct': 'a'}}\n",
      "\n",
      "Check from an expert English Writer of the above quiz:\n",
      "\u001b[0m\n",
      "\n",
      "\u001b[1m> Finished chain.\u001b[0m\n",
      "\n",
      "\u001b[1m> Finished chain.\u001b[0m\n"
     ]
    }
   ],
   "source": [
    "response = generate_evaluate_chain(\n",
    "    {\"text\": data, \"number\": NUMBER, \"subject\": SUBJECT, \"tone\": TONE, \"response_json\": RESPONSE_JSON})"
   ]
  },
  {
   "cell_type": "code",
   "execution_count": 19,
   "metadata": {},
   "outputs": [
    {
     "data": {
      "text/plain": [
       "{'text': 'Natural language processing, or NLP, combines computational linguisticsâ€”rule-based modeling of human languageâ€”with statistical and machine learning models to enable computers and digital devices to recognize, understand and generate text and speech. Human language is filled with ambiguities that make it incredibly difficult to write software that accurately determines the intended meaning of text or voice data. Homonyms, homophones, sarcasm, idioms, metaphors, grammar and usage exceptions, variations in sentence structureâ€”these just a few of the irregularities of human language that take humans years to learn, but that programmers must teach natural language-driven applications to recognize and understand accurately from the start, if those applications are going to be useful.\\n\\n',\n",
       " 'number': 5,\n",
       " 'subject': 'Maths',\n",
       " 'tone': 'Formal',\n",
       " 'response_json': {'1': {'MCQ': 'Multiple Choice Question',\n",
       "   'Options': {'a': 'Choice here',\n",
       "    'b': 'Choice here',\n",
       "    'c': 'Choice here',\n",
       "    'd': 'Choice here'},\n",
       "   'Correct': 'Correct Answer'},\n",
       "  '2': {'MCQ': 'Multiple Choice Question',\n",
       "   'Options': {'a': 'Choice here',\n",
       "    'b': 'Choice here',\n",
       "    'c': 'Choice here',\n",
       "    'd': 'Choice here'},\n",
       "   'Correct': 'Correct Answer'},\n",
       "  '3': {'MCQ': 'Multiple Choice Question',\n",
       "   'Options': {'a': 'Choice here',\n",
       "    'b': 'Choice here',\n",
       "    'c': 'Choice here',\n",
       "    'd': 'Choice here'},\n",
       "   'Correct': 'Correct Answer'}},\n",
       " 'quiz': \"### RESPONSE_JSON\\n{'1': {'MCQ': 'What is the main component of NLP that enables computers to recognize and understand text and speech?', 'Options': {'a': 'Computational linguistics', 'b': 'Statistical models', 'c': 'Machine learning models', 'd': 'Combinations of a, b, and c'}, 'Correct': 'd'}, '2': {'MCQ': 'Which of the following challenges makes it difficult to develop accurate NLP applications?', 'Options': {'a': 'Ambiguities in human language', 'b': 'Lack of training data', 'c': 'Computational limitations', 'd': 'All of the above'}, 'Correct': 'a'}, '3': {'MCQ': 'Which of the following is NOT an example of an irregularity found in human language?', 'Options': {'a': 'Homonyms', 'b': 'Sarcasm', 'c': 'Boolean algebra', 'd': 'Grammar exceptions'}, 'Correct': 'c'}, '4': {'MCQ': 'What is the significance of teaching NLP applications to recognize human language irregularities?', 'Options': {'a': 'To enhance their accuracy and usefulness', 'b': 'To reduce the need for human supervision', 'c': 'To make them more efficient', 'd': 'None of the above'}, 'Correct': 'a'}, '5': {'MCQ': 'Which of the following is the primary focus of computational linguistics in NLP?', 'Options': {'a': 'Rule-based modeling of human language', 'b': 'Statistical analysis of text', 'c': 'Machine learning algorithms', 'd': 'Speech recognition technology'}, 'Correct': 'a'}}\",\n",
       " 'review': \"### Complexity Analysis - \\nThe quiz questions are well-structured and cover fundamental concepts of NLP. The language used is clear and concise, making it accessible to students with varying levels of English proficiency. The questions are designed to assess students' understanding of key NLP components, challenges, and applications. Overall, the complexity of the quiz is appropriate for the intended audience.\\n\\n### Updated Quiz Questions - \\nThe quiz is already well-structured and covers the fundamental concepts of NLP effectively. Therefore, no significant changes are necessary. However, to further enhance the quiz, one could consider adding questions that explore specific NLP applications or recent advancements in the field.\"}"
      ]
     },
     "execution_count": 19,
     "metadata": {},
     "output_type": "execute_result"
    }
   ],
   "source": [
    "response"
   ]
  },
  {
   "cell_type": "code",
   "execution_count": 20,
   "metadata": {},
   "outputs": [],
   "source": [
    "quiz = response.get(\"quiz\")\n",
    "quiz = quiz.split('\\n', 1)[1]\n",
    "quiz = quiz.replace(\"'\", \"\\\"\")\n",
    "quiz = json.loads(quiz)"
   ]
  },
  {
   "cell_type": "code",
   "execution_count": 21,
   "metadata": {},
   "outputs": [],
   "source": [
    "quiz_table_data = []\n",
    "for key, value in quiz.items():\n",
    "    mcq = value[\"MCQ\"]\n",
    "    options = \" | \".join(\n",
    "        [\n",
    "            f\"{option}: {option_value}\"\n",
    "            for option, option_value in value[\"Options\"].items()\n",
    "        ]\n",
    "    )\n",
    "    correct = value[\"Correct\"]\n",
    "    quiz_table_data.append(\n",
    "        {\"MCQ\": mcq, \"Choices\": options, \"Correct\": correct})"
   ]
  },
  {
   "cell_type": "code",
   "execution_count": 22,
   "metadata": {},
   "outputs": [
    {
     "data": {
      "text/plain": [
       "[{'MCQ': 'What is the main component of NLP that enables computers to recognize and understand text and speech?',\n",
       "  'Choices': 'a: Computational linguistics | b: Statistical models | c: Machine learning models | d: Combinations of a, b, and c',\n",
       "  'Correct': 'd'},\n",
       " {'MCQ': 'Which of the following challenges makes it difficult to develop accurate NLP applications?',\n",
       "  'Choices': 'a: Ambiguities in human language | b: Lack of training data | c: Computational limitations | d: All of the above',\n",
       "  'Correct': 'a'},\n",
       " {'MCQ': 'Which of the following is NOT an example of an irregularity found in human language?',\n",
       "  'Choices': 'a: Homonyms | b: Sarcasm | c: Boolean algebra | d: Grammar exceptions',\n",
       "  'Correct': 'c'},\n",
       " {'MCQ': 'What is the significance of teaching NLP applications to recognize human language irregularities?',\n",
       "  'Choices': 'a: To enhance their accuracy and usefulness | b: To reduce the need for human supervision | c: To make them more efficient | d: None of the above',\n",
       "  'Correct': 'a'},\n",
       " {'MCQ': 'Which of the following is the primary focus of computational linguistics in NLP?',\n",
       "  'Choices': 'a: Rule-based modeling of human language | b: Statistical analysis of text | c: Machine learning algorithms | d: Speech recognition technology',\n",
       "  'Correct': 'a'}]"
      ]
     },
     "execution_count": 22,
     "metadata": {},
     "output_type": "execute_result"
    }
   ],
   "source": [
    "quiz_table_data"
   ]
  },
  {
   "cell_type": "code",
   "execution_count": 23,
   "metadata": {},
   "outputs": [],
   "source": [
    "mcq_data = pd.DataFrame(quiz_table_data)"
   ]
  },
  {
   "cell_type": "code",
   "execution_count": 25,
   "metadata": {},
   "outputs": [],
   "source": [
    "mcq_data.to_csv(\"mcq_sample_data.csv\", index=False)"
   ]
  }
 ],
 "metadata": {
  "kernelspec": {
   "display_name": "Python 3",
   "language": "python",
   "name": "python3"
  },
  "language_info": {
   "codemirror_mode": {
    "name": "ipython",
    "version": 3
   },
   "file_extension": ".py",
   "mimetype": "text/x-python",
   "name": "python",
   "nbconvert_exporter": "python",
   "pygments_lexer": "ipython3",
   "version": "3.11.8"
  }
 },
 "nbformat": 4,
 "nbformat_minor": 2
}
